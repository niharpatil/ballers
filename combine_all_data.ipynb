{
 "cells": [
  {
   "cell_type": "code",
   "execution_count": 13,
   "metadata": {},
   "outputs": [
    {
     "name": "stdout",
     "output_type": "stream",
     "text": [
      "0.22.0\n"
     ]
    }
   ],
   "source": [
    "import pandas as pd\n",
    "import numpy as np\n",
    "import re\n",
    "from os import listdir\n",
    "from os.path import isfile, join\n",
    "print(pd.__version__)"
   ]
  },
  {
   "cell_type": "code",
   "execution_count": 14,
   "metadata": {},
   "outputs": [],
   "source": [
    "# Combine Advanced and Regular statistics dataframes\n",
    "regular = pd.read_csv('./data/computed/total_player_statistics.csv')\n",
    "advanced = pd.read_csv('./data/computed/total_player_advanced_statistics.csv')\n",
    "\n",
    "# Drop the column that index gets set to\n",
    "regular.drop(inplace=True, columns=\"Unnamed: 0\")\n",
    "advanced.drop(inplace=True, columns=\"Unnamed: 0\")\n",
    "\n",
    "# We have already checked that every player in regular is in advanced and vice versa\n",
    "\n",
    "# We want to merge entries in regular and advanced that contain the same player in the same year. Thus, we create a dummy column\n",
    "# We drop duplicates for some players with the same names, since their contract data is not distinct\n",
    "regular['player_year'] = regular[['Player','Year']].apply(lambda x: x['Player'] + str(int(x['Year'])) , axis=1)\n",
    "advanced['player_year'] = advanced[['Player','Year']].apply(lambda x: x['Player'] + str(int(x['Year'])) , axis=1)\n",
    "regular = regular.drop(columns=['Player','Year','Age'],axis=1)\n",
    "\n",
    "all_stats = pd.merge(regular,advanced,on='player_year')\n",
    "all_stats = all_stats.drop_duplicates(subset=['player_year'])"
   ]
  },
  {
   "cell_type": "code",
   "execution_count": 15,
   "metadata": {},
   "outputs": [
    {
     "name": "stderr",
     "output_type": "stream",
     "text": [
      "/Library/Frameworks/Python.framework/Versions/3.6/lib/python3.6/site-packages/ipykernel_launcher.py:23: SettingWithCopyWarning: \n",
      "A value is trying to be set on a copy of a slice from a DataFrame.\n",
      "Try using .loc[row_indexer,col_indexer] = value instead\n",
      "\n",
      "See the caveats in the documentation: http://pandas.pydata.org/pandas-docs/stable/indexing.html#indexing-view-versus-copy\n",
      "/Library/Frameworks/Python.framework/Versions/3.6/lib/python3.6/site-packages/ipykernel_launcher.py:25: SettingWithCopyWarning: \n",
      "A value is trying to be set on a copy of a slice from a DataFrame.\n",
      "Try using .loc[row_indexer,col_indexer] = value instead\n",
      "\n",
      "See the caveats in the documentation: http://pandas.pydata.org/pandas-docs/stable/indexing.html#indexing-view-versus-copy\n"
     ]
    },
    {
     "name": "stdout",
     "output_type": "stream",
     "text": [
      "LeBron James\n",
      "2010\n",
      "18306250.0\n"
     ]
    }
   ],
   "source": [
    "# Combine all player statistics with contract data\n",
    "contracts = pd.read_csv('./data/computed/total_contract_data.csv')\n",
    "contracts = contracts.drop('Unnamed: 0', axis=1)\n",
    "\n",
    "players = contracts['Player'].unique()\n",
    "\n",
    "contracts['player_year'] = contracts[['Player','Signed']].apply(lambda x: x['Player'] + str(int(x['Signed'])) , axis=1)\n",
    "total_df = pd.DataFrame()\n",
    "\n",
    "for i in range(len(contracts)):\n",
    "    contract = contracts.iloc[i]\n",
    "    player = contract['Player']\n",
    "    year = contract['Signed']\n",
    "    amt = contract['Dollars_Per_Year']\n",
    "    if(player == 'LeBron James'):\n",
    "        print(player)\n",
    "        print(year)\n",
    "        print(amt)\n",
    "    player_stats = all_stats[all_stats['Player'] == player]\n",
    "    for y in range(year-2,year+1):\n",
    "        player_year = player_stats[player_stats['Year'] == y]\n",
    "        if(len(player_year) == 1):\n",
    "            player_year['Signed'] = year\n",
    "            # Our output for a given year\n",
    "            player_year['Dollars_Per_year'] = amt\n",
    "            total_df = total_df.append(player_year)"
   ]
  },
  {
   "cell_type": "code",
   "execution_count": 21,
   "metadata": {},
   "outputs": [],
   "source": [
    "total_df.to_csv(path_or_buf='./data/computed/training_data.csv')"
   ]
  },
  {
   "cell_type": "code",
   "execution_count": null,
   "metadata": {},
   "outputs": [],
   "source": []
  }
 ],
 "metadata": {
  "kernelspec": {
   "display_name": "Python 3",
   "language": "python",
   "name": "python3"
  },
  "language_info": {
   "codemirror_mode": {
    "name": "ipython",
    "version": 3
   },
   "file_extension": ".py",
   "mimetype": "text/x-python",
   "name": "python",
   "nbconvert_exporter": "python",
   "pygments_lexer": "ipython3",
   "version": "3.6.4"
  }
 },
 "nbformat": 4,
 "nbformat_minor": 2
}
