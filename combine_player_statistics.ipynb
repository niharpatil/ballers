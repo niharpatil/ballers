{
 "cells": [
  {
   "cell_type": "code",
   "execution_count": 10,
   "metadata": {},
   "outputs": [
    {
     "name": "stdout",
     "output_type": "stream",
     "text": [
      "0.22.0\n"
     ]
    }
   ],
   "source": [
    "import pandas as pd\n",
    "import re\n",
    "from os import listdir\n",
    "from os.path import isfile, join\n",
    "print(pd.__version__)"
   ]
  },
  {
   "cell_type": "code",
   "execution_count": 11,
   "metadata": {},
   "outputs": [],
   "source": [
    "mypath = './data/orig_data/'\n",
    "onlyfiles = [f for f in listdir(mypath) if isfile(join(mypath, f))]"
   ]
  },
  {
   "cell_type": "code",
   "execution_count": 12,
   "metadata": {},
   "outputs": [],
   "source": [
    "# Datasets with \"regular\" in the filename\n",
    "regfiles = [k for k in onlyfiles if 'regular' in k]"
   ]
  },
  {
   "cell_type": "code",
   "execution_count": 13,
   "metadata": {},
   "outputs": [
    {
     "name": "stdout",
     "output_type": "stream",
     "text": [
      "regular_statspg_2005season_Raw.xlsx\n",
      "regular_statspg_2006season_Raw.xlsx\n",
      "regular_statspg_2007season_Raw.xlsx\n",
      "regular_statspg_2008season_Raw.xlsx\n",
      "regular_statspg_2009season_Raw.xlsx\n",
      "regular_statspg_2010season_Raw.xlsx\n",
      "regular_statspg_2011season_Raw.xlsx\n",
      "regular_statspg_2012season_Raw.xlsx\n",
      "regular_statspg_2013season_Raw.xlsx\n",
      "regular_statspg_2014season_Raw.xlsx\n"
     ]
    }
   ],
   "source": [
    "total_df = pd.DataFrame(columns=['Player'])\n",
    "for file in regfiles:\n",
    "    print(file);\n",
    "    year = re.findall(r'\\d+', file)[0]\n",
    "    new_df = pd.read_excel('./data/orig_data/' + file)\n",
    "    new_df['Year'] = int(year)\n",
    "    \n",
    "    dupes = new_df[new_df['Tm'] == 'TOT']\n",
    "    \n",
    "    dropped = new_df.drop_duplicates(keep=False, subset=['Player','Age'])\n",
    "    \n",
    "    new_df = dropped.append(dupes).sort_values(by=['Rk'])\n",
    "    \n",
    "    total_df = total_df.append(new_df)\n",
    "        "
   ]
  },
  {
   "cell_type": "code",
   "execution_count": 14,
   "metadata": {},
   "outputs": [],
   "source": [
    "pre_clean = total_df.sort_values(['Player','Year'])\n",
    "\n",
    "# Cleaning data\n",
    "# Having 0 three point percentage is just as good as never shooting 3-pointers\n",
    "pre_clean['3P.1'] = pre_clean['3P.1'].fillna(0)\n",
    "\n",
    "# Getting traded in a season is a \"bad event.\" We encode this for players with TOT as their team\n",
    "pre_clean['Traded'] = pre_clean['Tm'] == 'TOT'\n",
    "pre_clean['Traded'] = [1 if i else 0 for i in pre_clean['Traded']]\n",
    "pre_clean = pre_clean.drop(columns=['Tm'])\n",
    "\n",
    "# One-hot encode a player's position\n",
    "pre_clean = pd.get_dummies(pre_clean, columns=['Pos'])\n",
    "\n",
    "# Rank is not a useful feature\n",
    "pre_clean = pre_clean.drop(columns=['Rk'])\n",
    "\n",
    "# Reset the indices since several rows were dropped\n",
    "pre_clean = pre_clean.reset_index(drop=True)\n",
    "\n",
    "pre_clean.to_csv(path_or_buf='./data/computed/total_player_statistics.csv')"
   ]
  }
 ],
 "metadata": {
  "kernelspec": {
   "display_name": "Python 3",
   "language": "python",
   "name": "python3"
  },
  "language_info": {
   "codemirror_mode": {
    "name": "ipython",
    "version": 3
   },
   "file_extension": ".py",
   "mimetype": "text/x-python",
   "name": "python",
   "nbconvert_exporter": "python",
   "pygments_lexer": "ipython3",
   "version": "3.6.4"
  }
 },
 "nbformat": 4,
 "nbformat_minor": 2
}
