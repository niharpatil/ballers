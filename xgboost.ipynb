{
 "cells": [
  {
   "cell_type": "code",
   "execution_count": 25,
   "metadata": {},
   "outputs": [],
   "source": [
    "import pandas as pd\n",
    "import numpy as np\n",
    "import seaborn as sns\n",
    "import matplotlib.pyplot as plt\n",
    "import sklearn\n",
    "import xgboost as xgb\n",
    "from sklearn.model_selection import train_test_split\n",
    "\n",
    "%matplotlib inline"
   ]
  },
  {
   "cell_type": "code",
   "execution_count": 2,
   "metadata": {},
   "outputs": [
    {
     "data": {
      "text/plain": [
       "array(['Pos_C', 'Pos_C-PF', 'Pos_C-SF', 'Pos_F', 'Pos_G-F', 'Pos_PF',\n",
       "       'Pos_PF-C', 'Pos_PF-SF', 'Pos_PG', 'Pos_PG-SG', 'Pos_SF',\n",
       "       'Pos_SF-PF', 'Pos_SF-SG', 'Pos_SG', 'Pos_SG-PF', 'Pos_SG-PG',\n",
       "       'Pos_SG-SF'], dtype=object)"
      ]
     },
     "execution_count": 2,
     "metadata": {},
     "output_type": "execute_result"
    }
   ],
   "source": [
    "df = pd.read_csv('./data/computed/training_data.csv')\n",
    "df = df.drop('Unnamed: 0', axis=1)\n",
    "columns = np.array(df.columns)\n",
    "columns[25:42]"
   ]
  },
  {
   "cell_type": "code",
   "execution_count": 3,
   "metadata": {},
   "outputs": [],
   "source": [
    "# So, we make a modified feature set\n",
    "features = np.setdiff1d(columns,columns[25:42])\n",
    "\n",
    "# We also remove some categorical variables that won't be useful, such as the player's name\n",
    "features = np.setdiff1d(features,['Player','player_year', 'Tm', 'Signed'])"
   ]
  },
  {
   "cell_type": "code",
   "execution_count": 4,
   "metadata": {},
   "outputs": [],
   "source": [
    "df['FT%'] = df['FT%'].fillna(0)\n",
    "\n",
    "features = np.setdiff1d(features,['Player','player_year', 'Tm', 'Signed'])\n",
    "selected = df[features]\n",
    "X = selected.drop('Dollars_Per_year', axis=1)\n",
    "y = selected['Dollars_Per_year']"
   ]
  },
  {
   "cell_type": "code",
   "execution_count": 51,
   "metadata": {},
   "outputs": [],
   "source": [
    "#Create Splits\n",
    "X_train, X_test, y_train, y_test = train_test_split(X, y, test_size=0.1)"
   ]
  },
  {
   "cell_type": "code",
   "execution_count": 63,
   "metadata": {},
   "outputs": [
    {
     "data": {
      "text/plain": [
       "729     2556250.0\n",
       "746     1533750.0\n",
       "65       798328.0\n",
       "2      19700000.0\n",
       "375           0.0\n",
       "Name: Dollars_Per_year, dtype: float64"
      ]
     },
     "execution_count": 63,
     "metadata": {},
     "output_type": "execute_result"
    }
   ],
   "source": [
    "#Put into XFBoost matrices\n",
    "xgtrain = xgb.DMatrix(X_train, y_train)\n",
    "xgtest = xgb.DMatrix(X_test)\n",
    "y_train.head()"
   ]
  },
  {
   "cell_type": "code",
   "execution_count": 116,
   "metadata": {},
   "outputs": [
    {
     "data": {
      "text/plain": [
       "463    5800000.0\n",
       "28     4500000.0\n",
       "360          0.0\n",
       "14     5048560.5\n",
       "287    6322320.0\n",
       "Name: Dollars_Per_year, dtype: float64"
      ]
     },
     "execution_count": 116,
     "metadata": {},
     "output_type": "execute_result"
    }
   ],
   "source": [
    "#Param docs can be found https://xgboost.readthedocs.io/en/latest//parameter.html#learning-task-parameters\n",
    "param = {'objective':'reg:linear'}\n",
    "# Some randos params: https://www.kaggle.com/fashionlee/using-xgboost-for-regression\n",
    "our_params={'eta':0.3,'seed':1,'subsample':0.7,'colsample_bytree':0.9\n",
    "            ,'objective':'reg:linear','max_depth':2,'min_child_weight':1}\n",
    "bst = xgb.train(our_params, xgtrain)\n",
    "y_hat = bst.predict(xgtest)\n",
    "y_test.head()"
   ]
  },
  {
   "cell_type": "code",
   "execution_count": 113,
   "metadata": {},
   "outputs": [
    {
     "data": {
      "text/plain": [
       "<seaborn.axisgrid.FacetGrid at 0x7f2e06db5908>"
      ]
     },
     "execution_count": 113,
     "metadata": {},
     "output_type": "execute_result"
    },
    {
     "data": {
      "image/png": "[encoded data removed]",
      "text/plain": [
       "<Figure size 360x360 with 1 Axes>"
      ]
     },
     "metadata": {},
     "output_type": "display_data"
    }
   ],
   "source": [
    "import seaborn as sns\n",
    "results = pd.DataFrame({'real':y_test.values, 'predict':y_hat})\n",
    "sns.lmplot(x='real', y='predict', data=results)"
   ]
  },
  {
   "cell_type": "code",
   "execution_count": 114,
   "metadata": {},
   "outputs": [
    {
     "data": {
      "text/plain": [
       "858589.616167901"
      ]
     },
     "execution_count": 114,
     "metadata": {},
     "output_type": "execute_result"
    }
   ],
   "source": [
    "from sklearn.metrics import mean_squared_error\n",
    "import math\n",
    "rmse = math.sqrt(mean_squared_error(y_test.values, y_hat))\n",
    "rmse"
   ]
  }
 ],
 "metadata": {
  "kernelspec": {
   "display_name": "Python 3",
   "language": "python",
   "name": "python3"
  },
  "language_info": {
   "codemirror_mode": {
    "name": "ipython",
    "version": 3
   },
   "file_extension": ".py",
   "mimetype": "text/x-python",
   "name": "python",
   "nbconvert_exporter": "python",
   "pygments_lexer": "ipython3",
   "version": "3.6.4"
  }
 },
 "nbformat": 4,
 "nbformat_minor": 2
}
